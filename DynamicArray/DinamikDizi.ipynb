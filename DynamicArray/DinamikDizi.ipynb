{
 "cells": [
  {
   "cell_type": "code",
   "execution_count": 7,
   "metadata": {
    "collapsed": true
   },
   "outputs": [],
   "source": [
    "import sys"
   ]
  },
  {
   "cell_type": "code",
   "execution_count": 8,
   "metadata": {},
   "outputs": [
    {
     "name": "stdout",
     "output_type": "stream",
     "text": [
      "64\n",
      "96\n"
     ]
    }
   ],
   "source": [
    "my_l_1=[]\n",
    "my_l_2=my=my_l_1\n",
    "size_1=sys.getsizeof(my_l_1)\n",
    "print(size_1)\n",
    "my_l_1.append(\"test\")\n",
    "size_2=sys.getsizeof(my_l_1)\n",
    "print(size_2)"
   ]
  },
  {
   "cell_type": "code",
   "execution_count": 10,
   "metadata": {},
   "outputs": [
    {
     "name": "stdout",
     "output_type": "stream",
     "text": [
      "dizi degişti,amortized cost\n",
      "size 128\n",
      "dizi degişti,amortized cost\n",
      "size 192\n",
      "dizi degişti,amortized cost\n",
      "size 264\n",
      "dizi degişti,amortized cost\n",
      "size 344\n",
      "dizi degişti,amortized cost\n",
      "size 432\n",
      "dizi degişti,amortized cost\n",
      "size 528\n",
      "dizi degişti,amortized cost\n",
      "size 640\n",
      "dizi degişti,amortized cost\n",
      "size 768\n",
      "dizi degişti,amortized cost\n",
      "size 912\n",
      "dizi degişti,amortized cost\n",
      "size 1072\n",
      "dizi degişti,amortized cost\n",
      "size 1248\n",
      "dizi degişti,amortized cost\n",
      "size 1448\n",
      "dizi degişti,amortized cost\n",
      "size 1672\n",
      "dizi degişti,amortized cost\n",
      "size 1928\n",
      "dizi degişti,amortized cost\n",
      "size 2216\n",
      "dizi degişti,amortized cost\n",
      "size 2536\n",
      "dizi degişti,amortized cost\n",
      "size 2896\n",
      "dizi degişti,amortized cost\n",
      "size 3304\n",
      "dizi degişti,amortized cost\n",
      "size 3760\n",
      "dizi degişti,amortized cost\n",
      "size 4272\n",
      "dizi degişti,amortized cost\n",
      "size 4848\n",
      "dizi degişti,amortized cost\n",
      "size 5496\n",
      "dizi degişti,amortized cost\n",
      "size 6232\n",
      "dizi degişti,amortized cost\n",
      "size 7056\n",
      "dizi degişti,amortized cost\n",
      "size 7984\n",
      "dizi degişti,amortized cost\n",
      "size 9024\n",
      "dizi degişti,amortized cost\n",
      "size 10200\n",
      "dizi degişti,amortized cost\n",
      "size 11520\n",
      "dizi degişti,amortized cost\n",
      "size 13008\n",
      "dizi degişti,amortized cost\n",
      "size 14680\n",
      "dizi degişti,amortized cost\n",
      "size 16560\n",
      "dizi degişti,amortized cost\n",
      "size 18672\n",
      "dizi degişti,amortized cost\n",
      "size 21048\n",
      "dizi degişti,amortized cost\n",
      "size 23728\n",
      "dizi degişti,amortized cost\n",
      "size 26736\n",
      "dizi degişti,amortized cost\n",
      "size 30120\n",
      "dizi degişti,amortized cost\n",
      "size 33928\n",
      "dizi degişti,amortized cost\n",
      "size 38216\n",
      "dizi degişti,amortized cost\n",
      "size 43040\n",
      "dizi degişti,amortized cost\n",
      "size 48464\n",
      "dizi degişti,amortized cost\n",
      "size 54568\n",
      "dizi degişti,amortized cost\n",
      "size 61432\n",
      "dizi degişti,amortized cost\n",
      "size 69160\n",
      "dizi degişti,amortized cost\n",
      "size 77848\n",
      "dizi degişti,amortized cost\n",
      "size 87624\n",
      "dizi degişti,amortized cost\n",
      "size 98624\n",
      "dizi degişti,amortized cost\n",
      "size 111000\n",
      "dizi degişti,amortized cost\n",
      "size 124920\n",
      "dizi degişti,amortized cost\n",
      "size 140584\n",
      "dizi degişti,amortized cost\n",
      "size 158200\n",
      "dizi degişti,amortized cost\n",
      "size 178024\n"
     ]
    }
   ],
   "source": [
    "size_1=sys.getsizeof(my_l_1)\n",
    "for i in range(20000):\n",
    "    my_l_1.append(str(i)+\"test\")\n",
    "    if(size_1!=sys.getsizeof(my_l_1)):\n",
    "        print(\"dizi yer değiştirdi,amortized cost\")\n",
    "        size_1=sys.getsizeof(my_l_1)\n",
    "        print(\"size\",size_1)\n",
    "        "
   ]
  },
  {
   "cell_type": "code",
   "execution_count": null,
   "metadata": {
    "collapsed": true
   },
   "outputs": [],
   "source": []
  }
 ],
 "metadata": {
  "kernelspec": {
   "display_name": "Python 3",
   "language": "python",
   "name": "python3"
  },
  "language_info": {
   "codemirror_mode": {
    "name": "ipython",
    "version": 3
   },
   "file_extension": ".py",
   "mimetype": "text/x-python",
   "name": "python",
   "nbconvert_exporter": "python",
   "pygments_lexer": "ipython3",
   "version": "3.6.3"
  }
 },
 "nbformat": 4,
 "nbformat_minor": 2
}
